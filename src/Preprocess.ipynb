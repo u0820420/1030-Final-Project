{
 "cells": [
  {
   "cell_type": "code",
   "execution_count": 145,
   "metadata": {},
   "outputs": [],
   "source": [
    "import numpy as np \n",
    "import pandas as pd \n",
    "import matplotlib as mpl\n",
    "import matplotlib.pyplot as plt\n",
    "from pandas import Series, DataFrame\n",
    "%matplotlib inline\n",
    "\n",
    "filename= \"data/data.csv\"\n",
    "raw = pd.read_csv(filename)"
   ]
  },
  {
   "cell_type": "code",
   "execution_count": 146,
   "metadata": {},
   "outputs": [
    {
     "name": "stdout",
     "output_type": "stream",
     "text": [
      "(25697, 25)\n"
     ]
    },
    {
     "data": {
      "text/plain": [
       "False"
      ]
     },
     "execution_count": 146,
     "metadata": {},
     "output_type": "execute_result"
    }
   ],
   "source": [
    "df = raw.dropna()\n",
    "df.index = range(len(df))\n",
    "print(df.shape)\n",
    "df.isnull().values.any()"
   ]
  },
  {
   "cell_type": "code",
   "execution_count": 147,
   "metadata": {},
   "outputs": [
    {
     "name": "stderr",
     "output_type": "stream",
     "text": [
      "/anaconda3/lib/python3.7/site-packages/pandas/core/indexing.py:362: SettingWithCopyWarning: \n",
      "A value is trying to be set on a copy of a slice from a DataFrame.\n",
      "Try using .loc[row_indexer,col_indexer] = value instead\n",
      "\n",
      "See the caveats in the documentation: http://pandas.pydata.org/pandas-docs/stable/indexing.html#indexing-view-versus-copy\n",
      "  self.obj[key] = _infer_fill_value(value)\n",
      "/anaconda3/lib/python3.7/site-packages/pandas/core/indexing.py:543: SettingWithCopyWarning: \n",
      "A value is trying to be set on a copy of a slice from a DataFrame.\n",
      "Try using .loc[row_indexer,col_indexer] = value instead\n",
      "\n",
      "See the caveats in the documentation: http://pandas.pydata.org/pandas-docs/stable/indexing.html#indexing-view-versus-copy\n",
      "  self.obj[item] = s\n"
     ]
    }
   ],
   "source": [
    "df.loc[:,'month'] = df['game_date'].str[5:7].astype(int)\n",
    "df.loc[:,'year'] = df['game_date'].str[0:4].astype(int)\n",
    "df = df.drop('game_date', axis = 1)\n",
    "df = df.drop('team_name', axis = 1)\n",
    "df = df.drop('shot_id', axis = 1)\n",
    "df = df.drop('game_id', axis = 1)\n",
    "df = df.drop('lon', 1)\n",
    "df = df.drop('lat', 1)\n",
    "df = df.drop('year', axis = 1)\n",
    "df = df.drop('team_id', axis = 1)\n",
    "df = df.drop('game_event_id', axis = 1)\n",
    "#df = df.drop('season', axis = 1)\n",
    "time = Series(df.minutes_remaining*60 + df.seconds_remaining)\n",
    "df.loc[:,'time_remaining'] = time\n",
    "df = df.drop('seconds_remaining', axis = 1)\n",
    "df = df.drop('minutes_remaining', axis = 1)\n",
    "\n"
   ]
  },
  {
   "cell_type": "code",
   "execution_count": 148,
   "metadata": {},
   "outputs": [],
   "source": [
    "# Loc_x, and loc_y binning\n",
    "df['loc_x'] = pd.cut(df['loc_x'], 25)\n",
    "df['loc_y'] = pd.cut(df['loc_y'], 25)\n",
    "\n",
    "# Replace 20 least common action types with value 'Other'\n",
    "rare_action_types = df['action_type'].value_counts().sort_values().index.values[:20]\n",
    "df.loc[df['action_type'].isin(rare_action_types), 'action_type'] = 'Other'\n",
    "\n",
    "## Matchup - (away/home)\n",
    "df['home_play'] = df['matchup'].str.contains('vs').astype('int')\n",
    "df.drop('matchup', axis=1, inplace=True)\n",
    "\n"
   ]
  },
  {
   "cell_type": "code",
   "execution_count": 149,
   "metadata": {},
   "outputs": [
    {
     "name": "stdout",
     "output_type": "stream",
     "text": [
      "<class 'pandas.core.frame.DataFrame'>\n",
      "RangeIndex: 25697 entries, 0 to 25696\n",
      "Data columns (total 17 columns):\n",
      "action_type           25697 non-null object\n",
      "combined_shot_type    25697 non-null object\n",
      "loc_x                 25697 non-null category\n",
      "loc_y                 25697 non-null category\n",
      "period                25697 non-null int64\n",
      "playoffs              25697 non-null int64\n",
      "season                25697 non-null object\n",
      "shot_distance         25697 non-null int64\n",
      "shot_made_flag        25697 non-null float64\n",
      "shot_type             25697 non-null object\n",
      "shot_zone_area        25697 non-null object\n",
      "shot_zone_basic       25697 non-null object\n",
      "shot_zone_range       25697 non-null object\n",
      "opponent              25697 non-null object\n",
      "month                 25697 non-null int64\n",
      "time_remaining        25697 non-null int64\n",
      "home_play             25697 non-null int64\n",
      "dtypes: category(2), float64(1), int64(6), object(8)\n",
      "memory usage: 3.0+ MB\n"
     ]
    },
    {
     "data": {
      "text/plain": [
       "False"
      ]
     },
     "execution_count": 149,
     "metadata": {},
     "output_type": "execute_result"
    }
   ],
   "source": [
    "df.info()\n",
    "df.isnull().values.any()"
   ]
  },
  {
   "cell_type": "code",
   "execution_count": 150,
   "metadata": {},
   "outputs": [
    {
     "data": {
      "text/html": [
       "<div>\n",
       "<style scoped>\n",
       "    .dataframe tbody tr th:only-of-type {\n",
       "        vertical-align: middle;\n",
       "    }\n",
       "\n",
       "    .dataframe tbody tr th {\n",
       "        vertical-align: top;\n",
       "    }\n",
       "\n",
       "    .dataframe thead th {\n",
       "        text-align: right;\n",
       "    }\n",
       "</style>\n",
       "<table border=\"1\" class=\"dataframe\">\n",
       "  <thead>\n",
       "    <tr style=\"text-align: right;\">\n",
       "      <th></th>\n",
       "      <th>action_type</th>\n",
       "      <th>combined_shot_type</th>\n",
       "      <th>loc_x</th>\n",
       "      <th>loc_y</th>\n",
       "      <th>period</th>\n",
       "      <th>playoffs</th>\n",
       "      <th>season</th>\n",
       "      <th>shot_distance</th>\n",
       "      <th>shot_made_flag</th>\n",
       "      <th>shot_type</th>\n",
       "      <th>shot_zone_area</th>\n",
       "      <th>shot_zone_basic</th>\n",
       "      <th>shot_zone_range</th>\n",
       "      <th>opponent</th>\n",
       "      <th>month</th>\n",
       "      <th>time_remaining</th>\n",
       "      <th>home_play</th>\n",
       "    </tr>\n",
       "  </thead>\n",
       "  <tbody>\n",
       "    <tr>\n",
       "      <th>0</th>\n",
       "      <td>Jump Shot</td>\n",
       "      <td>Jump Shot</td>\n",
       "      <td>(-170.32, -150.4]</td>\n",
       "      <td>(-10.6, 22.8]</td>\n",
       "      <td>1</td>\n",
       "      <td>0</td>\n",
       "      <td>2000-01</td>\n",
       "      <td>15</td>\n",
       "      <td>0.0</td>\n",
       "      <td>2PT Field Goal</td>\n",
       "      <td>Left Side(L)</td>\n",
       "      <td>Mid-Range</td>\n",
       "      <td>8-16 ft.</td>\n",
       "      <td>POR</td>\n",
       "      <td>10</td>\n",
       "      <td>622</td>\n",
       "      <td>0</td>\n",
       "    </tr>\n",
       "    <tr>\n",
       "      <th>1</th>\n",
       "      <td>Jump Shot</td>\n",
       "      <td>Jump Shot</td>\n",
       "      <td>(-110.56, -90.64]</td>\n",
       "      <td>(123.0, 156.4]</td>\n",
       "      <td>1</td>\n",
       "      <td>0</td>\n",
       "      <td>2000-01</td>\n",
       "      <td>16</td>\n",
       "      <td>1.0</td>\n",
       "      <td>2PT Field Goal</td>\n",
       "      <td>Left Side Center(LC)</td>\n",
       "      <td>Mid-Range</td>\n",
       "      <td>16-24 ft.</td>\n",
       "      <td>POR</td>\n",
       "      <td>10</td>\n",
       "      <td>465</td>\n",
       "      <td>0</td>\n",
       "    </tr>\n",
       "    <tr>\n",
       "      <th>2</th>\n",
       "      <td>Jump Shot</td>\n",
       "      <td>Jump Shot</td>\n",
       "      <td>(128.48, 148.4]</td>\n",
       "      <td>(156.4, 189.8]</td>\n",
       "      <td>1</td>\n",
       "      <td>0</td>\n",
       "      <td>2000-01</td>\n",
       "      <td>22</td>\n",
       "      <td>0.0</td>\n",
       "      <td>2PT Field Goal</td>\n",
       "      <td>Right Side Center(RC)</td>\n",
       "      <td>Mid-Range</td>\n",
       "      <td>16-24 ft.</td>\n",
       "      <td>POR</td>\n",
       "      <td>10</td>\n",
       "      <td>412</td>\n",
       "      <td>0</td>\n",
       "    </tr>\n",
       "    <tr>\n",
       "      <th>3</th>\n",
       "      <td>Driving Dunk Shot</td>\n",
       "      <td>Dunk</td>\n",
       "      <td>(-10.96, 8.96]</td>\n",
       "      <td>(-10.6, 22.8]</td>\n",
       "      <td>2</td>\n",
       "      <td>0</td>\n",
       "      <td>2000-01</td>\n",
       "      <td>0</td>\n",
       "      <td>1.0</td>\n",
       "      <td>2PT Field Goal</td>\n",
       "      <td>Center(C)</td>\n",
       "      <td>Restricted Area</td>\n",
       "      <td>Less Than 8 ft.</td>\n",
       "      <td>POR</td>\n",
       "      <td>10</td>\n",
       "      <td>379</td>\n",
       "      <td>0</td>\n",
       "    </tr>\n",
       "    <tr>\n",
       "      <th>4</th>\n",
       "      <td>Jump Shot</td>\n",
       "      <td>Jump Shot</td>\n",
       "      <td>(-150.4, -130.48]</td>\n",
       "      <td>(-44.835, -10.6]</td>\n",
       "      <td>3</td>\n",
       "      <td>0</td>\n",
       "      <td>2000-01</td>\n",
       "      <td>14</td>\n",
       "      <td>0.0</td>\n",
       "      <td>2PT Field Goal</td>\n",
       "      <td>Left Side(L)</td>\n",
       "      <td>Mid-Range</td>\n",
       "      <td>8-16 ft.</td>\n",
       "      <td>POR</td>\n",
       "      <td>10</td>\n",
       "      <td>572</td>\n",
       "      <td>0</td>\n",
       "    </tr>\n",
       "  </tbody>\n",
       "</table>\n",
       "</div>"
      ],
      "text/plain": [
       "         action_type combined_shot_type              loc_x             loc_y  \\\n",
       "0          Jump Shot          Jump Shot  (-170.32, -150.4]     (-10.6, 22.8]   \n",
       "1          Jump Shot          Jump Shot  (-110.56, -90.64]    (123.0, 156.4]   \n",
       "2          Jump Shot          Jump Shot    (128.48, 148.4]    (156.4, 189.8]   \n",
       "3  Driving Dunk Shot               Dunk     (-10.96, 8.96]     (-10.6, 22.8]   \n",
       "4          Jump Shot          Jump Shot  (-150.4, -130.48]  (-44.835, -10.6]   \n",
       "\n",
       "   period  playoffs   season  shot_distance  shot_made_flag       shot_type  \\\n",
       "0       1         0  2000-01             15             0.0  2PT Field Goal   \n",
       "1       1         0  2000-01             16             1.0  2PT Field Goal   \n",
       "2       1         0  2000-01             22             0.0  2PT Field Goal   \n",
       "3       2         0  2000-01              0             1.0  2PT Field Goal   \n",
       "4       3         0  2000-01             14             0.0  2PT Field Goal   \n",
       "\n",
       "          shot_zone_area  shot_zone_basic  shot_zone_range opponent  month  \\\n",
       "0           Left Side(L)        Mid-Range         8-16 ft.      POR     10   \n",
       "1   Left Side Center(LC)        Mid-Range        16-24 ft.      POR     10   \n",
       "2  Right Side Center(RC)        Mid-Range        16-24 ft.      POR     10   \n",
       "3              Center(C)  Restricted Area  Less Than 8 ft.      POR     10   \n",
       "4           Left Side(L)        Mid-Range         8-16 ft.      POR     10   \n",
       "\n",
       "   time_remaining  home_play  \n",
       "0             622          0  \n",
       "1             465          0  \n",
       "2             412          0  \n",
       "3             379          0  \n",
       "4             572          0  "
      ]
     },
     "execution_count": 150,
     "metadata": {},
     "output_type": "execute_result"
    }
   ],
   "source": [
    "df.head()"
   ]
  },
  {
   "cell_type": "code",
   "execution_count": 151,
   "metadata": {},
   "outputs": [],
   "source": [
    "#categorial_cols = [\n",
    "    #'action_type', 'combined_shot_type', 'period', 'shot_type',\n",
    "    #'shot_zone_area', 'shot_zone_basic', 'shot_zone_range', 'year',\n",
    "    #'month', 'opponent', 'loc_x', 'loc_y']\n",
    "\n",
    "#for cc in categorial_cols:\n",
    "    #dummies = pd.get_dummies(df[cc])\n",
    "    #dummies = dummies.add_prefix(\"{}#\".format(cc))\n",
    "    #df.drop(cc, axis=1, inplace=True)\n",
    "    #df = df.join(dummies)"
   ]
  },
  {
   "cell_type": "code",
   "execution_count": 152,
   "metadata": {},
   "outputs": [
    {
     "data": {
      "text/plain": [
       "(25697, 17)"
      ]
     },
     "execution_count": 152,
     "metadata": {},
     "output_type": "execute_result"
    }
   ],
   "source": [
    "df.shape"
   ]
  },
  {
   "cell_type": "code",
   "execution_count": null,
   "metadata": {},
   "outputs": [],
   "source": []
  },
  {
   "cell_type": "code",
   "execution_count": 153,
   "metadata": {},
   "outputs": [],
   "source": [
    "df.to_csv('data/preprocess.csv',index=False)"
   ]
  },
  {
   "cell_type": "code",
   "execution_count": null,
   "metadata": {},
   "outputs": [],
   "source": []
  },
  {
   "cell_type": "code",
   "execution_count": null,
   "metadata": {},
   "outputs": [],
   "source": []
  }
 ],
 "metadata": {
  "kernelspec": {
   "display_name": "Python 3",
   "language": "python",
   "name": "python3"
  },
  "language_info": {
   "codemirror_mode": {
    "name": "ipython",
    "version": 3
   },
   "file_extension": ".py",
   "mimetype": "text/x-python",
   "name": "python",
   "nbconvert_exporter": "python",
   "pygments_lexer": "ipython3",
   "version": "3.7.3"
  }
 },
 "nbformat": 4,
 "nbformat_minor": 2
}
