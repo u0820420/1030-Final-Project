{
 "cells": [
  {
   "cell_type": "markdown",
   "metadata": {},
   "source": [
    "# Proposal of Final Project for hands-on Data Science\n",
    "Zhi Wang<br/>\n",
    "23, Sep, 2019<br/>\n",
    "My Github Link: https://github.com/u0820420/1030-Final-Project.git\n",
    "\n",
    "## Overview\n",
    "Kobe is a polarizing figure in sports. For one of the greatest players of all time, for others a talented but overrated ball hog who got great teams built around him. Whether either one of these assertions is true will probably remain unclear by the end of this notebook, but on the way there we will take a look into the process by which a great player chooses his shots, and how this evolves through time according to his coaches, teammates and physical capabilities.<br/>\n",
    "## Data Description and Preprocess\n",
    "A data set from Kaggle containing the location and circumstances of every field goal attempted by Kobe Bryant took during his 20-year career. The whole dataset size is 30697 rows * 25 columns. Description follows:"
   ]
  },
  {
   "cell_type": "markdown",
   "metadata": {},
   "source": [
    "<center>\n",
    "    <img src=\"Data_Description.png\" style=\"height: 400px;\">\n",
    "</center>"
   ]
  },
  {
   "cell_type": "markdown",
   "metadata": {},
   "source": [
    "1. I drop the rows in which shot_make_flag has null values, as they are not useful for either training or testing. 25697 remain and 5000 are dropped. \n",
    "2. Since Kobe only play for Lakers in his career, so I drop the team_id and team_name and drop the shot_id and game_id, because they are not gonna help in the model. Drop lon and lat as well, because they are pairwise correlated 100% to the loc_x and loc_y. (will proof in the report later)\n",
    "3. Combine the two fields to the time_remaining in seconds until the end of each period and add it to the dataframe.\n",
    "4. For the purposes of creating an angle feature though we will standarise 'loc_x' and 'loc_y', to avoid zero values that may result in divisions by zero. With standarisation, the data are re-distributed around a mean of zero in one standard deviation distance. Scikit's StandardScaler provides with the facilities to transform training and testing consistently.\n",
    "5. In order to use Scikit’s classifiers, we need to convert the categorical fields. This can be achieved with Scikit’s OneHotEncoder.\n",
    "6. Splitting to training and testing set. I will isolate the targetble vector from the features and split the dataset to 80% training and 20% test set."
   ]
  },
  {
   "cell_type": "markdown",
   "metadata": {},
   "source": [
    "## Model and Features\n",
    "\n",
    "The problem presented is a simple one: to predict whether each shot is going into the basket or not. It is a classification problem. My data would gain from the kaggle website, named \"Kobe Bryant Shot Selection\". I will mainly apply decision tree model to analysis Kobe shot behavior. Other models will be tried and make a comparison, such as Random Forest, xgboost, etc. I choose to use decision tree for two reasons: <br/>\n",
    "\n",
    "1. Easy to Understand: Its graphical representation is very intuitive and users can easily relate their hypothesis.<br/>\n",
    "2. They can be used as a baseline that performs well in order to compare with more advanced models, like Random Forests, xgboost etc. They have the additional advantage that you may skip standarisation, normalistaion, feature extraction etc. and other pre-processing steps required by other algorithms. <br/>\n",
    "\n",
    "I’ll start by determining the complexity of the tree to avoid overfitting. I will use an initial method to narrow down the area and then perform k-fold cross-validation to pick the optimal complexity. Then, I will train, test and evaluate the model across most typical metrics, i.e. accuracy, precision, recall, f1-score. <br/>\n",
    "\n",
    "Features are: 'period', 'playoffs', 'shot_distance', 'team_id', 'month', 'year', 'time_remaining', 'home', 'angle', 'action_type', 'combined_shot_type', 'shot_type', 'shot_zone_area', 'shot_zone_basic', 'shot_zone_range', 'opponent'. Totally 16 features. "
   ]
  },
  {
   "cell_type": "markdown",
   "metadata": {},
   "source": [
    "<br/>"
   ]
  },
  {
   "cell_type": "markdown",
   "metadata": {},
   "source": [
    "## Other Projects\n",
    "\n",
    "1. The Project from Kevin Siswandi. \n",
    "Features dropped: <br/>\n",
    "• shot_id (used as index, not included as a feature)<br/>\n",
    "• team_name (only one category)<br/>\n",
    "• team_id (only one category)<br/>\n",
    "• game_event_id (unique within a game, not related to shots made)<br/>\n",
    "• game_id (redundant information already contained in matchup/opponent)<br/>\n",
    "• lon (correlated with loc_x)<br/>\n",
    "• lat (correlated with loc_y)<br/>\n",
    "\n",
    "Conclusion: A single XGBoost model without much feature engineering performed very well. XGBoost was really efficient in identifying non-linear interactions between features that not much feature engineering was required to get a good score (in fact several features that I generated ended up not used because they did not improve the final score by XGBoost). \n",
    "\n",
    "2. Kobe Bryant’s Success Against Different Opponents and Throughout His Career. He only use 'shot_made_flag' and 'opponent'. je want this to be plotted in order of best shooting percentage to worst shooting percentage. He is also going to add in a horizontal line indicating Kobe’s overall shooting percentage, which is 43.9%. So there’s something interesting. Kobe shoots better against the Western conference than the Eastern Conference. \n"
   ]
  }
 ],
 "metadata": {
  "kernel_info": {
   "name": "python3"
  },
  "kernelspec": {
   "display_name": "Python 3",
   "language": "python",
   "name": "python3"
  },
  "language_info": {
   "codemirror_mode": {
    "name": "ipython",
    "version": 3
   },
   "file_extension": ".py",
   "mimetype": "text/x-python",
   "name": "python",
   "nbconvert_exporter": "python",
   "pygments_lexer": "ipython3",
   "version": "3.7.3"
  },
  "nteract": {
   "version": "0.15.0"
  }
 },
 "nbformat": 4,
 "nbformat_minor": 4
}
